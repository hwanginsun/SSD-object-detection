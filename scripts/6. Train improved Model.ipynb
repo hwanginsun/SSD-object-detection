{
 "cells": [
  {
   "cell_type": "code",
   "execution_count": 1,
   "metadata": {},
   "outputs": [],
   "source": [
    "# If You use in Colab, You Should run this script\n",
    "import os\n",
    "if (not os.path.exists(\"./SSD-object-detection\") and\n",
    "    not \"SSD-object-detection\" in os.getcwd()):\n",
    "    !git clone https://github.com/public-ai/SSD-object-detection.git\n",
    "    os.chdir(\"./SSD-object-detection\")"
   ]
  },
  {
   "cell_type": "code",
   "execution_count": 2,
   "metadata": {},
   "outputs": [],
   "source": [
    "%matplotlib inline\n",
    "\n",
    "import sys\n",
    "sys.path.append(\"../\")\n",
    "from utils import DetectionDataset, draw_rectangle\n",
    "from models.generator import DetectionGenerator, PriorBoxes\n",
    "from models.ssd import build_base_network, attach_multibox_head, remodel_fpn_network\n",
    "from tensorflow.keras.models import Model\n",
    "from tensorflow.keras.utils import plot_model\n",
    "import pandas as pd\n",
    "import numpy as np\n",
    "import tensorflow as tf\n",
    "import tensorflow.keras.backend as K\n",
    "import matplotlib.pyplot as plt\n",
    "\n",
    "np.random.seed(10)\n",
    "tf.random.set_random_seed(10)"
   ]
  },
  {
   "cell_type": "markdown",
   "metadata": {},
   "source": [
    "# \\[ 모델 학습 \\]\n",
    "----\n",
    "----\n"
   ]
  },
  {
   "cell_type": "code",
   "execution_count": 3,
   "metadata": {},
   "outputs": [],
   "source": [
    "strides = [4, 8, 16]\n",
    "scales = [10, 25, 40]\n",
    "ratios = [(1,1),     # ratio : 1.\n",
    "          (0.5,1.5), # ratio : 0.33\n",
    "          (0.8,1.2), # ratio : 0.67\n",
    "          (1.2,0.8), # ratio : 1.5\n",
    "          (1.4,1.4)]\n",
    "\n",
    "prior = PriorBoxes(strides,scales,ratios)"
   ]
  },
  {
   "cell_type": "code",
   "execution_count": 6,
   "metadata": {},
   "outputs": [],
   "source": [
    "base_network = build_base_network(num_units=16)\n",
    "fpn_network = remodel_fpn_network(base_network, ['norm3_2','norm4_2','norm5_2'])\n",
    "predictions = attach_multibox_head(fpn_network,\n",
    "                                   ['P1','P2','P3'],\n",
    "                                   num_priors=len(ratios))\n",
    "model = Model(base_network.input,\n",
    "              predictions,\n",
    "              name='ssd')"
   ]
  },
  {
   "cell_type": "markdown",
   "metadata": {},
   "source": [
    "## 2. 데이터 구성하기\n",
    "---\n"
   ]
  },
  {
   "cell_type": "code",
   "execution_count": 7,
   "metadata": {},
   "outputs": [],
   "source": [
    "trainset = DetectionDataset(data_type='train')\n",
    "validset = DetectionDataset(data_type='validation')\n",
    "\n",
    "# .config로 했을 때에만 use_multiprocessing이 가능함\n",
    "# Argument로 들어가는 것들이 Serialize되는 Class이어야 되기 때문\n",
    "traingen = DetectionGenerator(trainset.config, \n",
    "                              prior.config, \n",
    "                              best_match_policy=True,\n",
    "                              batch_size=64)\n",
    "validgen = DetectionGenerator(validset.config, \n",
    "                              prior.config, \n",
    "                              best_match_policy=True,                              \n",
    "                              batch_size=64)"
   ]
  },
  {
   "cell_type": "markdown",
   "metadata": {},
   "source": [
    "## 4. 모델 컴파일 및 학습하기\n",
    "----\n"
   ]
  },
  {
   "cell_type": "code",
   "execution_count": 8,
   "metadata": {},
   "outputs": [],
   "source": [
    "from models.losses import SSDLoss\n",
    "from tensorflow.keras.callbacks import ReduceLROnPlateau\n",
    "from tensorflow.keras.optimizers import Adam"
   ]
  },
  {
   "cell_type": "code",
   "execution_count": 9,
   "metadata": {},
   "outputs": [
    {
     "name": "stderr",
     "output_type": "stream",
     "text": [
      "W0730 14:57:44.309578 4470715840 deprecation.py:323] From ../models/losses.py:37: add_dispatch_support.<locals>.wrapper (from tensorflow.python.ops.array_ops) is deprecated and will be removed in a future version.\n",
      "Instructions for updating:\n",
      "Use tf.where in 2.0, which has the same broadcast rule as np.where\n",
      "W0730 14:57:44.326915 4470715840 deprecation_wrapper.py:119] From ../models/losses.py:48: The name tf.log is deprecated. Please use tf.math.log instead.\n",
      "\n"
     ]
    }
   ],
   "source": [
    "model.compile(Adam(1e-3),\n",
    "              loss=SSDLoss(1.0,3.,ignore_match=True))\n",
    "\n",
    "callbacks =[]\n",
    "rlrop = ReduceLROnPlateau(factor=0.1, \n",
    "                          min_lr=1e-6, \n",
    "                          patience=5,\n",
    "                          cooldown=3)\n",
    "callbacks.append(rlrop)"
   ]
  },
  {
   "cell_type": "code",
   "execution_count": null,
   "metadata": {},
   "outputs": [],
   "source": [
    "model.fit_generator(traingen,\n",
    "                    epochs=50,\n",
    "                    validation_data=validgen,\n",
    "                    use_multiprocessing=True,\n",
    "                    workers=6,\n",
    "                    callbacks=callbacks)"
   ]
  },
  {
   "cell_type": "markdown",
   "metadata": {},
   "source": [
    "## 5. 모델을 통해 예측하기\n",
    "----\n",
    "\n",
    "모델을 학습시키는 데에 시간이 걸리므로, 우선 학습된 모델을 이용해보도록 하겠습니다."
   ]
  }
 ],
 "metadata": {
  "kernelspec": {
   "display_name": "Python 3",
   "language": "python",
   "name": "python3"
  },
  "language_info": {
   "codemirror_mode": {
    "name": "ipython",
    "version": 3
   },
   "file_extension": ".py",
   "mimetype": "text/x-python",
   "name": "python",
   "nbconvert_exporter": "python",
   "pygments_lexer": "ipython3",
   "version": "3.6.6"
  }
 },
 "nbformat": 4,
 "nbformat_minor": 2
}
